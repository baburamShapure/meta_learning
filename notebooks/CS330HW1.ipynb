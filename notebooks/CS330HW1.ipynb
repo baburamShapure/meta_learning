{
  "cells": [
    {
      "cell_type": "markdown",
      "metadata": {
        "id": "JvkoC8rAYBE7"
      },
      "source": [
        "\n",
        "##Setup\n",
        "\n",
        "You will need to make a copy of this Colab notebook in your Google Drive before you can edit the homework files. You can do so with **File &rarr; Save a copy in Drive**.\n"
      ]
    },
    {
      "cell_type": "markdown",
      "metadata": {},
      "source": [
        "# Data Preparation for Meta-Learning \n",
        "courtesy: [CS-330 HW1](https://colab.research.google.com/drive/1slBqgKa20iTatoWThMWZTnFysgAVD1vh?usp=sharing)"
      ]
    },
    {
      "cell_type": "code",
      "execution_count": 1,
      "metadata": {
        "colab": {
          "base_uri": "https://localhost:8080/"
        },
        "id": "-Q4lGYC_E6QQ",
        "outputId": "4a29f091-4e27-4c55-bd57-d4657c596627"
      },
      "outputs": [],
      "source": [
        "import os\n",
        "import numpy as np\n",
        "import os\n",
        "import random\n",
        "import tensorflow as tf\n",
        "from scipy import misc"
      ]
    },
    {
      "cell_type": "code",
      "execution_count": 2,
      "metadata": {
        "id": "ucYsULp9HUJy"
      },
      "outputs": [],
      "source": [
        "def get_images(paths, labels, nb_samples=None, shuffle=True):\n",
        "    \"\"\"\n",
        "    Takes a set of character folders and labels and returns paths to image files\n",
        "    paired with labels.\n",
        "    Args:\n",
        "        paths: A list of character folders\n",
        "        labels: List or numpy array of same length as paths\n",
        "        nb_samples: Number of images to retrieve per character\n",
        "    Returns:\n",
        "        List of (label, image_path) tuples\n",
        "    \"\"\"\n",
        "    if nb_samples is not None:\n",
        "        sampler = lambda x: random.sample(x, nb_samples)\n",
        "    else:\n",
        "        sampler = lambda x: x\n",
        "    images_labels = [(i, os.path.join(path, image))\n",
        "                     for i, path in zip(labels, paths)\n",
        "                     for image in sampler(os.listdir(path))]\n",
        "  \n",
        "    if shuffle:\n",
        "        random.shuffle(images_labels)\n",
        "    return images_labels\n",
        "\n",
        "\n",
        "def image_file_to_array(filename, dim_input):\n",
        "    \"\"\"\n",
        "    Takes an image path and returns numpy array\n",
        "    Args:\n",
        "        filename: Image filename\n",
        "        dim_input: Flattened shape of image\n",
        "    Returns:\n",
        "        1 channel image\n",
        "    \"\"\"\n",
        "    import imageio\n",
        "    image = imageio.imread(filename)  # misc.imread(filename)\n",
        "    image = image.reshape([dim_input])\n",
        "    image = image.astype(np.float32) / 255.0\n",
        "    image = 1.0 - image\n",
        "    return image"
      ]
    },
    {
      "cell_type": "code",
      "execution_count": 8,
      "metadata": {},
      "outputs": [],
      "source": [
        "class DataGenerator(object):\n",
        "    \"\"\"\n",
        "    Data Generator capable of generating batches of Omniglot data.\n",
        "    A \"class\" is considered a class of omniglot digits.\n",
        "    \"\"\"\n",
        "\n",
        "    def __init__(self, num_classes, num_samples_per_class, config={}):\n",
        "        \"\"\"\n",
        "        Args:\n",
        "            num_classes: Number of classes for classification (K-way)\n",
        "            num_samples_per_class: num samples to generate per class in one batch\n",
        "            batch_size: size of meta batch size (e.g. number of functions)\n",
        "        \"\"\"\n",
        "        self.num_samples_per_class = num_samples_per_class\n",
        "        self.num_classes = num_classes\n",
        "\n",
        "        data_folder = config.get('data_folder', os.path.join( '..', 'data', 'omniglot_resized'))\n",
        "        self.img_size = config.get('img_size', (28, 28))\n",
        "\n",
        "        self.dim_input = np.prod(self.img_size)\n",
        "        self.dim_output = self.num_classes\n",
        "\n",
        "        character_folders = [os.path.join(data_folder, family, character)\n",
        "                             for family in os.listdir(data_folder)\n",
        "                             if os.path.isdir(os.path.join(data_folder, family))\n",
        "                             for character in os.listdir(os.path.join(data_folder, family))\n",
        "                             if os.path.isdir(os.path.join(data_folder, family, character))]\n",
        "\n",
        "        random.seed(1)\n",
        "        random.shuffle(character_folders)\n",
        "        num_val = 100\n",
        "        num_train = 1100\n",
        "        self.metatrain_character_folders = character_folders[: num_train]\n",
        "        self.metaval_character_folders = character_folders[\n",
        "            num_train:num_train + num_val]\n",
        "        self.metatest_character_folders = character_folders[\n",
        "            num_train + num_val:]\n",
        "\n",
        "    def sample_batch(self, batch_type, batch_size):\n",
        "        \"\"\"\n",
        "        Samples a batch for training, validation, or testing\n",
        "        Args:\n",
        "            batch_type: train/val/test\n",
        "        Returns:\n",
        "            A a tuple of (1) Image batch and (2) Label batch where\n",
        "            image batch has shape [B, K, N, 784] and label batch has shape [B, K, N, N]\n",
        "            where B is batch size, K is number of samples per class, N is number of classes\n",
        "        \"\"\"\n",
        "        if batch_type == \"train\":\n",
        "            folders = self.metatrain_character_folders\n",
        "        elif batch_type == \"val\":\n",
        "            folders = self.metaval_character_folders\n",
        "        else:\n",
        "            folders = self.metatest_character_folders\n",
        "\n",
        "        #############################\n",
        "        #### YOUR CODE GOES HERE ####\n",
        "        all_image_batches = np.zeros((batch_size,  self.num_samples_per_class, self.num_classes, 784 ) )\n",
        "        all_label_batches = np.zeros((batch_size,  self.num_samples_per_class, self.num_classes, self.num_classes ) )\n",
        "        \n",
        "        for b in range(batch_size):\n",
        "          paths = random.sample(folders, self.num_classes)\n",
        "          labels = [i[-11:] for i in paths]\n",
        "          images_labels = get_images(paths, range(self.num_classes), \n",
        "                                     self.num_samples_per_class, \n",
        "                                     shuffle = False)# set shuffle to false for easier visualization. \n",
        "          \n",
        "          \n",
        "          labels_ = ( ['-'.join(i[1].split(os.path.sep)[3:4]) for i in images_labels])    \n",
        "          labels_dict = {}\n",
        "          __ = 0\n",
        "          for each_label in labels_: \n",
        "            if each_label not in labels_dict.keys(): \n",
        "              labels_dict[each_label] = __\n",
        "              __ += 1\n",
        "          \n",
        "       \n",
        "          labels_int = np.array([labels_dict[i] for i in labels_])\n",
        "          #  convert labels_int to one-hot vector. \n",
        "          b_ = np.zeros((labels_int.size, labels_int.max()+1))\n",
        "          \n",
        "          b_[np.arange(labels_int.size), labels_int] = 1\n",
        "\n",
        "          # create a single batch of images. \n",
        "          single_batch = np.array([image_file_to_array(i[1], 784) for i in images_labels])\n",
        "          single_batch = single_batch.reshape(self.num_classes, self.num_samples_per_class,  784)\n",
        "          single_batch = np.swapaxes(single_batch, 0, 1)   # output shape: [batch_size, sample, num_classes, flat-dim]\n",
        "          \n",
        "          \n",
        "          b_= b_.reshape(self.num_classes, self.num_samples_per_class, self.num_classes)\n",
        "          b_ = np.swapaxes(b_, 0, 1)\n",
        "  \n",
        "          all_image_batches[b,:,:, :] = single_batch\n",
        "          all_label_batches[b, :, :, :] = b_\n",
        "       \n",
        "        return all_image_batches.astype(np.float32), all_label_batches.astype(np.float32)"
      ]
    },
    {
      "cell_type": "code",
      "execution_count": 9,
      "metadata": {
        "id": "si10vH_0SH_y"
      },
      "outputs": [
        {
          "data": {
            "text/plain": [
              "((4, 3, 2, 784), (4, 3, 2, 2))"
            ]
          },
          "execution_count": 9,
          "metadata": {},
          "output_type": "execute_result"
        }
      ],
      "source": [
        "# num_classes: Number of classes for classification (K-way)\n",
        "# num_samples_per_class: num samples to generate per class in one batch\n",
        "num_classes = 2\n",
        "num_samples_per_class = 3\n",
        "batch_size = 4\n",
        "tmp = DataGenerator(num_classes, num_samples_per_class)\n",
        "images, labels= tmp.sample_batch('train', batch_size)\n",
        "images.shape, labels.shape"
      ]
    },
    {
      "cell_type": "code",
      "execution_count": null,
      "metadata": {},
      "outputs": [],
      "source": []
    }
  ],
  "metadata": {
    "accelerator": "GPU",
    "colab": {
      "collapsed_sections": [],
      "name": "Copy of CS330_Homework1_Stencil.ipynb",
      "provenance": []
    },
    "interpreter": {
      "hash": "54eb1c8ece2dcd35e7bc473e4bce3ae67a9168e9d916a4588e2494f3a286530c"
    },
    "kernelspec": {
      "display_name": "Python 3.8.5 64-bit ('dl': conda)",
      "name": "python3"
    },
    "language_info": {
      "codemirror_mode": {
        "name": "ipython",
        "version": 3
      },
      "file_extension": ".py",
      "mimetype": "text/x-python",
      "name": "python",
      "nbconvert_exporter": "python",
      "pygments_lexer": "ipython3",
      "version": "3.8.5"
    }
  },
  "nbformat": 4,
  "nbformat_minor": 0
}
